{
 "cells": [
  {
   "cell_type": "code",
   "execution_count": 3,
   "metadata": {},
   "outputs": [],
   "source": [
    "import networkx as nx\n",
    "import pandas as pd\n",
    "import numpy as np\n",
    "import random\n",
    "from tqdm import tqdm\n",
    "from sklearn.decomposition import PCA\n",
    "import matplotlib.pyplot as plt\n"
   ]
  },
  {
   "cell_type": "code",
   "execution_count": 5,
   "metadata": {},
   "outputs": [
    {
     "data": {
      "text/html": [
       "<div>\n",
       "<style scoped>\n",
       "    .dataframe tbody tr th:only-of-type {\n",
       "        vertical-align: middle;\n",
       "    }\n",
       "\n",
       "    .dataframe tbody tr th {\n",
       "        vertical-align: top;\n",
       "    }\n",
       "\n",
       "    .dataframe thead th {\n",
       "        text-align: right;\n",
       "    }\n",
       "</style>\n",
       "<table border=\"1\" class=\"dataframe\">\n",
       "  <thead>\n",
       "    <tr style=\"text-align: right;\">\n",
       "      <th></th>\n",
       "      <th>source</th>\n",
       "      <th>target</th>\n",
       "      <th>depth</th>\n",
       "    </tr>\n",
       "  </thead>\n",
       "  <tbody>\n",
       "    <tr>\n",
       "      <th>0</th>\n",
       "      <td>space exploration</td>\n",
       "      <td>discovery and exploration of the solar system</td>\n",
       "      <td>1</td>\n",
       "    </tr>\n",
       "    <tr>\n",
       "      <th>1</th>\n",
       "      <td>space exploration</td>\n",
       "      <td>in-space propulsion technologies</td>\n",
       "      <td>1</td>\n",
       "    </tr>\n",
       "    <tr>\n",
       "      <th>2</th>\n",
       "      <td>space exploration</td>\n",
       "      <td>robotic spacecraft</td>\n",
       "      <td>1</td>\n",
       "    </tr>\n",
       "    <tr>\n",
       "      <th>3</th>\n",
       "      <td>space exploration</td>\n",
       "      <td>timeline of planetary exploration</td>\n",
       "      <td>1</td>\n",
       "    </tr>\n",
       "    <tr>\n",
       "      <th>4</th>\n",
       "      <td>space exploration</td>\n",
       "      <td>landings on other planets</td>\n",
       "      <td>1</td>\n",
       "    </tr>\n",
       "  </tbody>\n",
       "</table>\n",
       "</div>"
      ],
      "text/plain": [
       "              source                                         target  depth\n",
       "0  space exploration  discovery and exploration of the solar system      1\n",
       "1  space exploration               in-space propulsion technologies      1\n",
       "2  space exploration                             robotic spacecraft      1\n",
       "3  space exploration              timeline of planetary exploration      1\n",
       "4  space exploration                      landings on other planets      1"
      ]
     },
     "execution_count": 5,
     "metadata": {},
     "output_type": "execute_result"
    }
   ],
   "source": [
    "df = pd.read_csv(\"data/space/space_data.tsv\", sep = \"\\t\")\n",
    "df.head(5)"
   ]
  },
  {
   "cell_type": "code",
   "execution_count": 6,
   "metadata": {},
   "outputs": [],
   "source": [
    "G = nx.from_pandas_edgelist(df, \"source\", \"target\", edge_attr = True, create_using = nx.Graph())"
   ]
  },
  {
   "cell_type": "code",
   "execution_count": 7,
   "metadata": {},
   "outputs": [
    {
     "data": {
      "text/plain": [
       "2088"
      ]
     },
     "execution_count": 7,
     "metadata": {},
     "output_type": "execute_result"
    }
   ],
   "source": [
    "len(G)"
   ]
  },
  {
   "cell_type": "code",
   "execution_count": 8,
   "metadata": {},
   "outputs": [],
   "source": [
    "def get_randomwalk(node, path_length):\n",
    "    random_walk = [node]\n",
    "    for i in range(path_length - 1):\n",
    "        temp = list(G.neighbors(node))\n",
    "        temp = list(set(temp) - set(random_walk))\n",
    "        if len(temp) == 0:\n",
    "            break\n",
    "            \n",
    "        random_node = random.choice(temp)\n",
    "        random_walk.append(random_node)\n",
    "        node = random_node\n",
    "        \n",
    "    return random_walk"
   ]
  },
  {
   "cell_type": "code",
   "execution_count": 9,
   "metadata": {},
   "outputs": [
    {
     "data": {
      "text/plain": [
       "['space exploration',\n",
       " 'sample return mission',\n",
       " 'robotic exploration of the moon',\n",
       " 'international lunar exploration working group',\n",
       " 'exploration of the moon',\n",
       " 'colonization of the moon',\n",
       " 'lunar resources',\n",
       " 'asteroid mining',\n",
       " 'asteroid redirect mission',\n",
       " 'asteroid-impact avoidance']"
      ]
     },
     "execution_count": 9,
     "metadata": {},
     "output_type": "execute_result"
    }
   ],
   "source": [
    "get_randomwalk('space exploration', 10)"
   ]
  },
  {
   "cell_type": "code",
   "execution_count": 10,
   "metadata": {},
   "outputs": [
    {
     "name": "stderr",
     "output_type": "stream",
     "text": [
      "100%|██████████| 2088/2088 [00:00<00:00, 4869.20it/s]\n"
     ]
    },
    {
     "data": {
      "text/plain": [
       "10440"
      ]
     },
     "execution_count": 10,
     "metadata": {},
     "output_type": "execute_result"
    }
   ],
   "source": [
    "#get list of all nodes from the graph\n",
    "all_nodes = list(G.nodes())\n",
    "\n",
    "random_walks = []\n",
    "for n in tqdm(all_nodes):\n",
    "    for i in range(5):\n",
    "        random_walks.append(get_randomwalk(n, 10))\n",
    "        \n",
    "len(random_walks)"
   ]
  },
  {
   "cell_type": "code",
   "execution_count": 12,
   "metadata": {},
   "outputs": [
    {
     "data": {
      "text/plain": [
       "(980913, 1010480)"
      ]
     },
     "execution_count": 12,
     "metadata": {},
     "output_type": "execute_result"
    }
   ],
   "source": [
    "from gensim.models import Word2Vec\n",
    "model = Word2Vec(window = 4, sg = 1, hs = 0,\n",
    "                negative = 10, alpha = 0.33, min_alpha = 0.0007,\n",
    "                seed = 14)\n",
    "model.build_vocab(random_walks, progress_per = 2)\n",
    "model.train(random_walks, total_examples = model.corpus_count, epochs = 20, report_delay = 1)"
   ]
  },
  {
   "cell_type": "code",
   "execution_count": 13,
   "metadata": {},
   "outputs": [
    {
     "name": "stderr",
     "output_type": "stream",
     "text": [
      "<ipython-input-13-a310658892c3>:1: DeprecationWarning: Call to deprecated `similar_by_word` (Method will be removed in 4.0.0, use self.wv.similar_by_word() instead).\n",
      "  model.similar_by_word('space tourism')\n"
     ]
    },
    {
     "data": {
      "text/plain": [
       "[('valentina tereshkova', 0.7874040603637695),\n",
       " ('lunar outpost (nasa)', 0.786030113697052),\n",
       " ('glider pilot license', 0.7794921398162842),\n",
       " ('global security challenge', 0.7788718342781067),\n",
       " ('class m planet', 0.7681514024734497),\n",
       " ('robot rights', 0.7539568543434143),\n",
       " ('control engineering (magazine)', 0.7537608742713928),\n",
       " ('cities of the underworld', 0.7527996301651001),\n",
       " ('space station 3d', 0.7525389194488525),\n",
       " ('space research service', 0.7498314380645752)]"
      ]
     },
     "execution_count": 13,
     "metadata": {},
     "output_type": "execute_result"
    }
   ],
   "source": [
    "model.similar_by_word('space tourism')"
   ]
  },
  {
   "cell_type": "code",
   "execution_count": 25,
   "metadata": {},
   "outputs": [],
   "source": [
    "terms = ['lunar escape systems', 'soviet moonshot', 'soyuz 7k-l1',\n",
    "        'moon landing', 'space food', 'food systems on space exploration missions',\n",
    "        'meal, ready-to-eat', 'space law', 'metalaw', 'moon treaty', 'legal aspects of computing',\n",
    "        'astronaut training', 'reduced-gravity aircraft',\n",
    "        'space adaptation syndrome', 'micro-g environment']"
   ]
  },
  {
   "cell_type": "code",
   "execution_count": 26,
   "metadata": {},
   "outputs": [],
   "source": [
    "def plot_nodes(word_list):\n",
    "    X = model[word_list]\n",
    "    pca = PCA(n_components = 2)\n",
    "    result = pca.fit_transform(X)\n",
    "    \n",
    "    plt.figure(figsize = (12, 9))\n",
    "    plt.scatter(result[:, 0], result[:, 1])\n",
    "    for i, word in enumerate(word_list):\n",
    "        plt.annotate(word, xy = (result[i, 0], result[i, 1]))\n",
    "        \n",
    "    plt.show()"
   ]
  },
  {
   "cell_type": "code",
   "execution_count": 27,
   "metadata": {},
   "outputs": [
    {
     "name": "stderr",
     "output_type": "stream",
     "text": [
      "<ipython-input-26-a4e614b851d1>:2: DeprecationWarning: Call to deprecated `__getitem__` (Method will be removed in 4.0.0, use self.wv.__getitem__() instead).\n",
      "  X = model[word_list]\n"
     ]
    },
    {
     "data": {
      "image/png": "[encoded data removed]",
      "text/plain": [
       "<Figure size 864x648 with 1 Axes>"
      ]
     },
     "metadata": {
      "needs_background": "light"
     },
     "output_type": "display_data"
    }
   ],
   "source": [
    "plot_nodes(terms)"
   ]
  },
  {
   "cell_type": "code",
   "execution_count": null,
   "metadata": {},
   "outputs": [],
   "source": []
  }
 ],
 "metadata": {
  "kernelspec": {
   "display_name": "Python 3",
   "language": "python",
   "name": "python3"
  },
  "language_info": {
   "codemirror_mode": {
    "name": "ipython",
    "version": 3
   },
   "file_extension": ".py",
   "mimetype": "text/x-python",
   "name": "python",
   "nbconvert_exporter": "python",
   "pygments_lexer": "ipython3",
   "version": "3.8.2"
  }
 },
 "nbformat": 4,
 "nbformat_minor": 4
}
