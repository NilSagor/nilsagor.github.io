{
 "cells": [
  {
   "cell_type": "markdown",
   "metadata": {},
   "source": [
    "# contents"
   ]
  },
  {
   "cell_type": "markdown",
   "metadata": {},
   "source": [
    "## 0.1 Import libraries"
   ]
  },
  {
   "cell_type": "code",
   "execution_count": 23,
   "metadata": {},
   "outputs": [
    {
     "name": "stdout",
     "output_type": "stream",
     "text": [
      "numpy version: 1.19.0\n",
      "pandas version: 1.0.5\n",
      "matplotlib version 3.3.0\n",
      "networkx version 2.5\n"
     ]
    }
   ],
   "source": [
    "from pathlib import Path\n",
    "from collections import Counter, defaultdict\n",
    "from itertools import combinations\n",
    "from pprint import pprint as pp\n",
    "import requests\n",
    "import random\n",
    "\n",
    "import pandas as pd\n",
    "import numpy as np\n",
    "import matplotlib as mpl\n",
    "import matplotlib.pyplot as plt\n",
    "\n",
    "import networkx as nx\n",
    "\n",
    "print(f'numpy version: {np.__version__}')\n",
    "print(f'pandas version: {pd.__version__}')\n",
    "print(f'matplotlib version {mpl.__version__}')\n",
    "print(f'networkx version {nx.__version__}')"
   ]
  },
  {
   "cell_type": "markdown",
   "metadata": {},
   "source": [
    "## 0.2 function create_dir_save_file"
   ]
  },
  {
   "cell_type": "code",
   "execution_count": 22,
   "metadata": {},
   "outputs": [],
   "source": [
    "def create_dir_save_file(dir_path: Path, url: str):\n",
    "    \"\"\"\n",
    "    Check if the path exists and create it if it does not.\n",
    "    Check if the file exists and download it if it does not.\n",
    "    \"\"\"\n",
    "    if not dir_path.parents[0].exists():\n",
    "        dir_path.parents[0].mkdir(parents=True)\n",
    "        print(f'Directory Created: {dir_path.parents[0]}')\n",
    "    else:\n",
    "        print('Directory Exists')\n",
    "        \n",
    "    if not dir_path.exists():\n",
    "        r = requests.get(url, allow_redirects=True)\n",
    "        open(dir_path, 'wb').write(r.content)\n",
    "        print(f'File Created: {dir_path.name}')\n",
    "    else:\n",
    "        print('File Exists')\n"
   ]
  },
  {
   "cell_type": "markdown",
   "metadata": {},
   "source": [
    " ## 0.3 load datasets"
   ]
  },
  {
   "cell_type": "code",
   "execution_count": 26,
   "metadata": {},
   "outputs": [
    {
     "name": "stdout",
     "output_type": "stream",
     "text": [
      "Directory Created: data/network\n",
      "File Created: ego-twitter.p\n",
      "Directory Exists\n",
      "File Created: github_users.p\n"
     ]
    }
   ],
   "source": [
    "#datset url:\n",
    "\n",
    "#https://assets.datacamp.com/production/repositories/580/datasets/64cf6963a7e8005e3771ef3b256812a5797320f0/ego-twitter.p\n",
    "#https://assets.datacamp.com/production/repositories/580/datasets/69ada08d5cce7f35f38ffefe8f2291b7cfcd6000/github_users.p\n",
    "\n",
    "data_dir = Path('data/network')\n",
    "images_dir = Path('image/network')\n",
    "\n",
    "twitter = 'https://assets.datacamp.com/production/repositories/580/datasets/64cf6963a7e8005e3771ef3b256812a5797320f0/ego-twitter.p'\n",
    "github = 'https://assets.datacamp.com/production/repositories/580/datasets/69ada08d5cce7f35f38ffefe8f2291b7cfcd6000/github_users.p'\n",
    "\n",
    "datasets = [twitter, github]\n",
    "data_paths = list()\n",
    "\n",
    "for data in datasets:\n",
    "    file_name = data.split('/')[-1].replace('?raw=true', '')\n",
    "    data_path = data_dir / file_name\n",
    "    create_dir_save_file(data_path, data)\n",
    "    data_paths.append(data_path)"
   ]
  },
  {
   "cell_type": "markdown",
   "metadata": {},
   "source": [
    "# 0.4 data"
   ]
  },
  {
   "cell_type": "code",
   "execution_count": 27,
   "metadata": {},
   "outputs": [],
   "source": [
    "T = nx.read_gpickle(data_paths[0])\n",
    "Gh = nx.read_gpickle(data_paths[1])\n"
   ]
  },
  {
   "cell_type": "markdown",
   "metadata": {},
   "source": [
    "# 1 Inroduction"
   ]
  },
  {
   "cell_type": "markdown",
   "metadata": {},
   "source": [
    "## 1.1 Graph"
   ]
  },
  {
   "cell_type": "markdown",
   "metadata": {},
   "source": [
    "Graph are structures that map relations between objects. the objects are referred to as nodes and the connections between them as edges. Edges and Nodes are commonly referred to by several name such as \n",
    "node == vertex == point\n",
    "edge == arc == link\n",
    "the start graph is undirected. that is edges have no orientation. they are bi-directional.\n",
    "for example: A <---------> B = B <----------> A\n",
    "By contrast, the shortest path to hike every tail could be a directed graph \n",
    "for example: A -----> B != B -------> A\n",
    "\n",
    "the distance between each pair of adjacent nodes represents of an edge.\n",
    "\n",
    "Degree refers the number of edges incident to (touching) a node. Nodes are referred to as odd-degree nodes a number odd and even-degree when it is even.\n",
    "\n",
    "\n"
   ]
  },
  {
   "cell_type": "markdown",
   "metadata": {},
   "source": [
    "## 1.2 NetworkX\n"
   ]
  },
  {
   "cell_type": "markdown",
   "metadata": {},
   "source": [
    "Networkx is most popular python package for manipulating and analyzing graph. \n",
    "igraph for c++. \n",
    "Using nx.Graph(), we could initialize an empty graph to which we can add nodes and edges\n",
    "the integer 1, 2, 3 can be entered as nodes, using the add_nodes_from method the list [1, 2, 3] as an argument.\n",
    "Using the .nodes method to see the nodes present in the graph.\n",
    "similarly use .add_edges and .edges to add and see the edges present in the graph.\n",
    "Edges between nodes are represented as tuple, in which each tuple shows the nodes that are present on that edge\n"
   ]
  },
  {
   "cell_type": "code",
   "execution_count": 29,
   "metadata": {},
   "outputs": [
    {
     "name": "stdout",
     "output_type": "stream",
     "text": [
      "[1, 2, 3]\n",
      "[(1, 2)]\n"
     ]
    }
   ],
   "source": [
    "G = nx.Graph()\n",
    "G.add_nodes_from([1,2,3])\n",
    "print(G.nodes())\n",
    "G.add_edge(1,2)\n",
    "print(G.edges())"
   ]
  },
  {
   "cell_type": "markdown",
   "metadata": {},
   "source": [
    "- metadata can be stored on the graph as well\n",
    "- For example, we can add to the node 1 , a label key with blue, as we assign a value to the key of dictionary\n",
    "- the node list can be retrieved with G.nodes() and passing the (data = True) parameter.\n",
    "    -  this returns a list of tuples in which the first element of each tuple is the node and the second element is a dictionary in which the key-value pair corresponds to the metadata. "
   ]
  },
  {
   "cell_type": "code",
   "execution_count": null,
   "metadata": {},
   "outputs": [],
   "source": []
  }
 ],
 "metadata": {
  "kernelspec": {
   "display_name": "Python 3",
   "language": "python",
   "name": "python3"
  },
  "language_info": {
   "codemirror_mode": {
    "name": "ipython",
    "version": 3
   },
   "file_extension": ".py",
   "mimetype": "text/x-python",
   "name": "python",
   "nbconvert_exporter": "python",
   "pygments_lexer": "ipython3",
   "version": "3.8.2"
  }
 },
 "nbformat": 4,
 "nbformat_minor": 4
}
